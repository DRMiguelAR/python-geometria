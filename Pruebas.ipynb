{
 "cells": [
  {
   "cell_type": "code",
   "execution_count": 1,
   "metadata": {},
   "outputs": [],
   "source": [
    "from dataclasses import dataclass\n",
    "from typing import NewType\n",
    "from math import cos, sin, pi\n",
    "import math\n",
    "\n",
    "Punto= NewType(\"Punto\", object)\n",
    "Vector= NewType(\"Vector\", object)\n",
    "\n",
    "def iguales(a: float, b: float, eps=10**-3) -> bool:\n",
    "    if type(a)==Vector and type(b)==Vector:\n",
    "        return a==b\n",
    "    else:\n",
    "        #return math.isclose(a,b, abs_tol=eps)\n",
    "        return abs(a- b)< eps\n",
    "\n",
    "class Vector:\n",
    "    def __init__(self, *args):\n",
    "        self.coords= args\n",
    "    def __len__(self):\n",
    "        return len(self.coords)\n",
    "    def __iter__(self):\n",
    "        return iter(self.coords)\n",
    "    def __repr__(self):\n",
    "        return str(self.coords)\n",
    "    def __eq__(self, other):\n",
    "        if len(self)==len(other):\n",
    "            return all( [iguales(a,b) for a,b in zip(self,other)] )\n",
    "        else:\n",
    "            raise ArithmeticError\n",
    "    \n",
    "class Punto(Vector):\n",
    "    def __init__(self, *args):\n",
    "        self.x, self.y= args[0], args[1]\n",
    "        super().__init__(*args)\n",
    "        \n",
    "    def distancia(p1: Punto, p2: Punto) -> float: \n",
    "        \"\"\"Regresa la distancia entre los puntos\"\"\"\n",
    "        dx= p1.x - p2.x\n",
    "        dy= p1.y - p2.y\n",
    "        return math.hypot(dx, dy) # Saca la hipotenusa dados los catetos\n",
    "\n",
    "    def transladar(self, dx: float, dy: float) -> Punto:\n",
    "        self.x+= dx\n",
    "        self.y+= dy\n",
    "        return self\n",
    "\n",
    "    def rotar(self, theta) -> Punto: \n",
    "        \"\"\"Rota el punto theta grados\"\"\"\n",
    "        theta= theta*pi/180\n",
    "        x= self.x\n",
    "        y= self.y\n",
    "        self.x= x*cos(theta)-y*sin(theta)\n",
    "        self.y= x*sin(theta)+y*cos(theta)\n",
    "        return self\n",
    "    \n",
    "class Linea(Vector):\n",
    "    def __init__(self, p1: Punto, p2: Punto):\n",
    "        self.A= p1.y- p2.y\n",
    "        self.B= p2.x- p1.x\n",
    "        self.C= p2.y* p1.x - p1.y* p2.x\n",
    "        super().__init__(self.A,self.B, self.C)\n",
    "\n",
    "    def __repr__(self):\n",
    "        return f\"A:{self.A}, B:{self.B}, C:{self.C}\"\n",
    "    \n",
    "    def simplificar(self):\n",
    "        A, B, C= self.A, self.B, self.C\n",
    "        if A:\n",
    "            A,B,C= 1, B/A, C/A\n",
    "        else:\n",
    "            B,C= 1, C/B\n",
    "        return A, B, C\n",
    "    \n",
    "    def __eq__(self, other): ## Tarea 2\n",
    "        v1= Vector(*self.simplificar())\n",
    "        v2= Vector(*other.simplificar())\n",
    "        return v1==v2\n",
    "\n",
    "\n",
    "class Segmento(Vector):\n",
    "    def __init__(self, p1:Punto, p2:Punto):\n",
    "        self.p1= p1\n",
    "        self.p2= p2\n",
    "        \n",
    "    \n",
    "    "
   ]
  },
  {
   "cell_type": "code",
   "execution_count": 2,
   "metadata": {},
   "outputs": [
    {
     "data": {
      "text/plain": [
       "False"
      ]
     },
     "metadata": {},
     "output_type": "display_data"
    },
    {
     "data": {
      "text/plain": [
       "True"
      ]
     },
     "metadata": {},
     "output_type": "display_data"
    },
    {
     "data": {
      "text/plain": [
       "True"
      ]
     },
     "metadata": {},
     "output_type": "display_data"
    },
    {
     "data": {
      "text/plain": [
       "(0, 1)"
      ]
     },
     "metadata": {},
     "output_type": "display_data"
    }
   ],
   "source": [
    "p1= Punto(1,0)\n",
    "p2= Punto(0,1)\n",
    "p3= Punto(1,0)\n",
    "p4= Punto(0.9999, 0.0001)\n",
    "\n",
    "display( p1== p2 )\n",
    "display( p1== p3 )\n",
    "display( p1== p4 )\n",
    "\n",
    "display(p2)"
   ]
  },
  {
   "cell_type": "code",
   "execution_count": 77,
   "metadata": {},
   "outputs": [
    {
     "data": {
      "text/plain": [
       "A:-3, B:0, C:6"
      ]
     },
     "execution_count": 77,
     "metadata": {},
     "output_type": "execute_result"
    }
   ],
   "source": [
    "## Linea Vertical\n",
    "p1= Punto(2, 0)\n",
    "p2= Punto(2, 3)\n",
    "\n",
    "l1= Linea(p1,p2)\n",
    "l1"
   ]
  },
  {
   "cell_type": "code",
   "execution_count": 78,
   "metadata": {},
   "outputs": [
    {
     "data": {
      "text/plain": [
       "A:-4, B:0, C:8"
      ]
     },
     "execution_count": 78,
     "metadata": {},
     "output_type": "execute_result"
    }
   ],
   "source": [
    "## Linea Vertical\n",
    "p1= Punto(2, 0)\n",
    "p2= Punto(2, 4)\n",
    "l2= Linea(p1,p2)\n",
    "l2"
   ]
  },
  {
   "cell_type": "code",
   "execution_count": 79,
   "metadata": {},
   "outputs": [
    {
     "data": {
      "text/plain": [
       "True"
      ]
     },
     "metadata": {},
     "output_type": "display_data"
    },
    {
     "data": {
      "text/plain": [
       "True"
      ]
     },
     "metadata": {},
     "output_type": "display_data"
    },
    {
     "data": {
      "text/plain": [
       "True"
      ]
     },
     "metadata": {},
     "output_type": "display_data"
    },
    {
     "data": {
      "text/plain": [
       "False"
      ]
     },
     "metadata": {},
     "output_type": "display_data"
    }
   ],
   "source": [
    "## Comparación de Líneas\n",
    "/display Linea(Punto(2,3),Punto(2,7))==Linea(Punto(2,0),Punto(2,-1)) \n",
    "/display Linea(Punto(2,3),Punto(4,3))==Linea(Punto(1,3),Punto(-7,3)) \n",
    "/display Linea(Punto(0,0),Punto(1,1))==Linea(Punto(2,2),Punto(11,11)) \n",
    "/display Linea(Punto(2,3),Punto(3,7))==Linea(Punto(2,0),Punto(2,-1)) \n"
   ]
  },
  {
   "cell_type": "code",
   "execution_count": 80,
   "metadata": {},
   "outputs": [],
   "source": [
    "## Tarea: Construir una función que compare adecuadamente\n",
    "## si dos lineas son la misma\n",
    "## revisar contra horizontal, vertical, diagonal"
   ]
  },
  {
   "cell_type": "code",
   "execution_count": 81,
   "metadata": {},
   "outputs": [
    {
     "data": {
      "image/png": "[encoded data removed]",
      "text/plain": [
       "<Figure size 432x288 with 1 Axes>"
      ]
     },
     "metadata": {
      "needs_background": "light"
     },
     "output_type": "display_data"
    }
   ],
   "source": [
    "import matplotlib.pyplot as plt\n",
    "\n",
    "p1= Punto(3,4)\n",
    "p2= Punto(2,5)\n",
    "\n",
    "\n",
    "#Patrón decorador\n",
    "def acepta_listas(f):\n",
    "    def inner(parametro, *args, **kwargs):\n",
    "        if type(parametro)==list:\n",
    "            for elemento in parametro:\n",
    "                f(elemento,*args, **kwargs)\n",
    "        else:\n",
    "            f(parametro, *args, **kwargs)\n",
    "    return inner\n",
    "\n",
    "@acepta_listas\n",
    "def graficar_puntos(p: Punto, *args, **kwargs):\n",
    "    x= p.x\n",
    "    y= p.y\n",
    "    plt.scatter(x,y, *args, **kwargs)\n",
    "    \n",
    "graficar_puntos([p1,p2], color=\"r\", marker=\"x\")"
   ]
  },
  {
   "cell_type": "code",
   "execution_count": 82,
   "metadata": {},
   "outputs": [
    {
     "data": {
      "image/png": "[encoded data removed]",
      "text/plain": [
       "<Figure size 432x288 with 1 Axes>"
      ]
     },
     "metadata": {
      "needs_background": "light"
     },
     "output_type": "display_data"
    }
   ],
   "source": [
    "p1= Punto(3,4)\n",
    "p2= Punto(2,5)\n",
    "\n",
    "def graficar_segmento(p1:Punto, p2:Punto):\n",
    "    plt.plot([p1.x, p2.x],[p1.y, p2.y])\n",
    "    \n",
    "graficar_segmento(p1,p2)\n",
    "\n",
    "props = dict(boxstyle='round', facecolor='wheat', alpha=0.5)\n",
    "plt.text(0.05, 0.95, \"hola\", fontsize=14, verticalalignment='top', bbox=props)\n",
    "plt.show()"
   ]
  },
  {
   "cell_type": "code",
   "execution_count": 93,
   "metadata": {},
   "outputs": [],
   "source": [
    "import numpy as np\n",
    "\n",
    "v1=Vector(2.01,3)\n",
    "v2=Vector(2,3)\n"
   ]
  },
  {
   "cell_type": "code",
   "execution_count": 94,
   "metadata": {},
   "outputs": [
    {
     "data": {
      "text/plain": [
       "False"
      ]
     },
     "execution_count": 94,
     "metadata": {},
     "output_type": "execute_result"
    }
   ],
   "source": [
    "iguales(v1,v2)"
   ]
  },
  {
   "cell_type": "code",
   "execution_count": null,
   "metadata": {},
   "outputs": [],
   "source": []
  }
 ],
 "metadata": {
  "kernelspec": {
   "display_name": "Python 3 (ipykernel)",
   "language": "python",
   "name": "python3"
  },
  "language_info": {
   "codemirror_mode": {
    "name": "ipython",
    "version": 3
   },
   "file_extension": ".py",
   "mimetype": "text/x-python",
   "name": "python",
   "nbconvert_exporter": "python",
   "pygments_lexer": "ipython3",
   "version": "3.9.5"
  }
 },
 "nbformat": 4,
 "nbformat_minor": 4
}
