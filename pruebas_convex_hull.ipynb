{
 "cells": [
  {
   "cell_type": "code",
   "execution_count": 1,
   "id": "9364f5a9-6c47-4c7e-9680-7f5380f392a4",
   "metadata": {},
   "outputs": [],
   "source": [
    "from itertools import permutations\n",
    "from Geometria import Vector, Punto, Segmento, iguales\n",
    "\n",
    "def ccw(v1: Vector, v2: Vector):\n",
    "    \"\"\"Revisa si el giro de v1 a v2 es en sentido antihorario\"\"\"\n",
    "    return v1.x*v2.y > v2.x*v1.y\n",
    "\n",
    "def armar_poligono(E: set) -> list:\n",
    "    \"\"\"Dado un conjunto de segmentos que formen un polígono, \n",
    "    regresa el polígono que forman, enlistando los vértices\n",
    "    en sentido horario\"\"\"\n",
    "    conexion= {s.p1: s.p2 for s in E}\n",
    "    inicio= conexion.popitem()\n",
    "    poligono= [inicio[0], inicio[1]]\n",
    "    while conexion:\n",
    "        poligono.append(conexion.pop(poligono[-1]))\n",
    "    return poligono\n",
    "    \n",
    "\n",
    "def convex_hull(P: list) -> list:\n",
    "    \"\"\"Regresa los vértices del convex hull de la lista de puntos\n",
    "    como un polígono enlistado en sentido horario\"\"\"\n",
    "    E= set()\n",
    "    for p,q in permutations(P,2):\n",
    "        valido= True\n",
    "        for r in P:\n",
    "            if r!=p and r!=q and ccw(Vector(p,q),Vector(p,r)):\n",
    "                valido= False\n",
    "                break\n",
    "        if valido:\n",
    "            E.add(Segmento(p,q))\n",
    "    return armar_poligono(E)"
   ]
  },
  {
   "cell_type": "code",
   "execution_count": 2,
   "id": "c013ea38-93ac-47d1-8bc6-b8af8c7f62b1",
   "metadata": {},
   "outputs": [
    {
     "name": "stdout",
     "output_type": "stream",
     "text": [
      "[(7, 3), (3, 3), (3, 7), (7, 7), (7, 3)]\n"
     ]
    }
   ],
   "source": [
    "def main():\n",
    "    l= [(4,4), (5,5),(3,3),(3,7),(7,3),(7,7),(4,6)]\n",
    "    P= [Punto(x,y) for x,y in l]\n",
    "    r= convex_hull(P)\n",
    "    print(r)\n",
    "\n",
    "if __name__==\"__main__\":\n",
    "    main()"
   ]
  },
  {
   "cell_type": "code",
   "execution_count": 26,
   "id": "20bd443b-cf02-4ad9-8171-dc01abdf5dd9",
   "metadata": {},
   "outputs": [
    {
     "data": {
      "text/plain": [
       "'__main__'"
      ]
     },
     "execution_count": 26,
     "metadata": {},
     "output_type": "execute_result"
    }
   ],
   "source": [
    "__name__"
   ]
  },
  {
   "cell_type": "code",
   "execution_count": null,
   "id": "cfb178c4-6036-49a1-bb8d-b93951c33228",
   "metadata": {},
   "outputs": [],
   "source": []
  }
 ],
 "metadata": {
  "kernelspec": {
   "display_name": "Python 3 (ipykernel)",
   "language": "python",
   "name": "python3"
  },
  "language_info": {
   "codemirror_mode": {
    "name": "ipython",
    "version": 3
   },
   "file_extension": ".py",
   "mimetype": "text/x-python",
   "name": "python",
   "nbconvert_exporter": "python",
   "pygments_lexer": "ipython3",
   "version": "3.9.5"
  }
 },
 "nbformat": 4,
 "nbformat_minor": 5
}
